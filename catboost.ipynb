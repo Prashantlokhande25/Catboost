{
  "nbformat": 4,
  "nbformat_minor": 0,
  "metadata": {
    "colab": {
      "provenance": [],
      "collapsed_sections": []
    },
    "kernelspec": {
      "name": "python3",
      "display_name": "Python 3"
    },
    "accelerator": "GPU",
    "widgets": {
      "application/vnd.jupyter.widget-state+json": {
        "4caf27c5da2c40c28e8adc9afff4d30c": {
          "model_module": "catboost-widget",
          "model_name": "CatboostWidgetModel",
          "model_module_version": "^1.0.0",
          "state": {
            "_dom_classes": [],
            "_model_module": "catboost-widget",
            "_model_module_version": "^1.0.0",
            "_model_name": "CatboostWidgetModel",
            "_view_count": null,
            "_view_module": "catboost-widget",
            "_view_module_version": "^1.0.0",
            "_view_name": "CatboostWidgetView",
            "data": {
              "catboost_info": {
                "path": "catboost_info",
                "name": "catboost_info",
                "content": {
                  "passed_iterations": 99,
                  "total_iterations": 100,
                  "data": {
                    "iterations": [
                      {
                        "learn": [
                          0.8508474576,
                          0.6485061089
                        ],
                        "iteration": 0,
                        "passed_time": 0.00668034574,
                        "remaining_time": 0.6613542283,
                        "test": [
                          0.8653846154,
                          0.6540573947
                        ]
                      },
                      {
                        "learn": [
                          0.8372881356,
                          0.613475122
                        ],
                        "iteration": 1,
                        "passed_time": 0.01128051714,
                        "remaining_time": 0.5527453398,
                        "test": [
                          0.8608414239,
                          0.6173075784
                        ]
                      },
                      {
                        "learn": [
                          0.8372881356,
                          0.5894471329
                        ],
                        "iteration": 2,
                        "passed_time": 0.01656937236,
                        "remaining_time": 0.5357430395,
                        "test": [
                          0.8571428571,
                          0.592819289
                        ]
                      },
                      {
                        "learn": [
                          0.8372881356,
                          0.5668137451
                        ],
                        "iteration": 3,
                        "passed_time": 0.0217619854,
                        "remaining_time": 0.5222876496,
                        "test": [
                          0.8571428571,
                          0.5747671644
                        ]
                      },
                      {
                        "learn": [
                          0.8372881356,
                          0.5506387233
                        ],
                        "iteration": 4,
                        "passed_time": 0.02706181281,
                        "remaining_time": 0.5141744434,
                        "test": [
                          0.8571428571,
                          0.5612505081
                        ]
                      },
                      {
                        "learn": [
                          0.8372881356,
                          0.5396538802
                        ],
                        "iteration": 5,
                        "passed_time": 0.0308188374,
                        "remaining_time": 0.4828284526,
                        "test": [
                          0.8571428571,
                          0.5486027008
                        ]
                      },
                      {
                        "learn": [
                          0.8372881356,
                          0.5325522318
                        ],
                        "iteration": 6,
                        "passed_time": 0.03607132966,
                        "remaining_time": 0.4792333798,
                        "test": [
                          0.8571428571,
                          0.542493886
                        ]
                      },
                      {
                        "learn": [
                          0.8372881356,
                          0.5259842327
                        ],
                        "iteration": 7,
                        "passed_time": 0.04013792289,
                        "remaining_time": 0.4615861133,
                        "test": [
                          0.8571428571,
                          0.5360154401
                        ]
                      },
                      {
                        "learn": [
                          0.8353140917,
                          0.5188613483
                        ],
                        "iteration": 8,
                        "passed_time": 0.04537901553,
                        "remaining_time": 0.4588322682,
                        "test": [
                          0.8571428571,
                          0.5278674346
                        ]
                      },
                      {
                        "learn": [
                          0.8372881356,
                          0.5142894661
                        ],
                        "iteration": 9,
                        "passed_time": 0.05003896701,
                        "remaining_time": 0.4503507031,
                        "test": [
                          0.8571428571,
                          0.5230838043
                        ]
                      },
                      {
                        "learn": [
                          0.8372881356,
                          0.5096602614
                        ],
                        "iteration": 10,
                        "passed_time": 0.05519998574,
                        "remaining_time": 0.4466180665,
                        "test": [
                          0.8571428571,
                          0.5221875947
                        ]
                      },
                      {
                        "learn": [
                          0.8372881356,
                          0.5045331969
                        ],
                        "iteration": 11,
                        "passed_time": 0.06034245906,
                        "remaining_time": 0.4425113664,
                        "test": [
                          0.8571428571,
                          0.5211169238
                        ]
                      },
                      {
                        "learn": [
                          0.8372881356,
                          0.497649701
                        ],
                        "iteration": 12,
                        "passed_time": 0.06544027092,
                        "remaining_time": 0.4379464285,
                        "test": [
                          0.8571428571,
                          0.5184175839
                        ]
                      },
                      {
                        "learn": [
                          0.8372881356,
                          0.4902626279
                        ],
                        "iteration": 13,
                        "passed_time": 0.07558896038,
                        "remaining_time": 0.4643321852,
                        "test": [
                          0.8571428571,
                          0.5148477038
                        ]
                      },
                      {
                        "learn": [
                          0.8372881356,
                          0.4854677298
                        ],
                        "iteration": 14,
                        "passed_time": 0.08282589877,
                        "remaining_time": 0.4693467597,
                        "test": [
                          0.8571428571,
                          0.5128647753
                        ]
                      },
                      {
                        "learn": [
                          0.8372881356,
                          0.4817323337
                        ],
                        "iteration": 15,
                        "passed_time": 0.09004046012,
                        "remaining_time": 0.4727124156,
                        "test": [
                          0.8571428571,
                          0.5132611655
                        ]
                      },
                      {
                        "learn": [
                          0.8372881356,
                          0.4799617572
                        ],
                        "iteration": 16,
                        "passed_time": 0.09807452896,
                        "remaining_time": 0.4788344649,
                        "test": [
                          0.8571428571,
                          0.5130095834
                        ]
                      },
                      {
                        "learn": [
                          0.8372881356,
                          0.4775825742
                        ],
                        "iteration": 17,
                        "passed_time": 0.1025855562,
                        "remaining_time": 0.4673342003,
                        "test": [
                          0.8571428571,
                          0.5115197092
                        ]
                      },
                      {
                        "learn": [
                          0.8372881356,
                          0.4740697856
                        ],
                        "iteration": 18,
                        "passed_time": 0.1134464392,
                        "remaining_time": 0.4836400828,
                        "test": [
                          0.8571428571,
                          0.5114377026
                        ]
                      },
                      {
                        "learn": [
                          0.8372881356,
                          0.4690835029
                        ],
                        "iteration": 19,
                        "passed_time": 0.1185599397,
                        "remaining_time": 0.4742397588,
                        "test": [
                          0.8571428571,
                          0.5110685602
                        ]
                      },
                      {
                        "learn": [
                          0.8392554992,
                          0.4621684499
                        ],
                        "iteration": 20,
                        "passed_time": 0.1237148014,
                        "remaining_time": 0.4654033006,
                        "test": [
                          0.8571428571,
                          0.5147382614
                        ]
                      },
                      {
                        "learn": [
                          0.8392554992,
                          0.4597870393
                        ],
                        "iteration": 21,
                        "passed_time": 0.1287986878,
                        "remaining_time": 0.4566498931,
                        "test": [
                          0.8571428571,
                          0.5148334973
                        ]
                      },
                      {
                        "learn": [
                          0.8412162162,
                          0.4552803132
                        ],
                        "iteration": 22,
                        "passed_time": 0.1339038746,
                        "remaining_time": 0.4482868845,
                        "test": [
                          0.8571428571,
                          0.5156488653
                        ]
                      },
                      {
                        "learn": [
                          0.8412162162,
                          0.4525417875
                        ],
                        "iteration": 23,
                        "passed_time": 0.1390207902,
                        "remaining_time": 0.4402325022,
                        "test": [
                          0.8571428571,
                          0.5144787492
                        ]
                      },
                      {
                        "learn": [
                          0.8412162162,
                          0.4506180663
                        ],
                        "iteration": 24,
                        "passed_time": 0.144513035,
                        "remaining_time": 0.4335391049,
                        "test": [
                          0.8571428571,
                          0.5129248708
                        ]
                      },
                      {
                        "learn": [
                          0.8445945946,
                          0.4458202353
                        ],
                        "iteration": 25,
                        "passed_time": 0.1496359437,
                        "remaining_time": 0.4258869166,
                        "test": [
                          0.8571428571,
                          0.5119178659
                        ]
                      },
                      {
                        "learn": [
                          0.8465430017,
                          0.4426366801
                        ],
                        "iteration": 26,
                        "passed_time": 0.154813432,
                        "remaining_time": 0.4185696495,
                        "test": [
                          0.8571428571,
                          0.5136764602
                        ]
                      },
                      {
                        "learn": [
                          0.8445945946,
                          0.4414192441
                        ],
                        "iteration": 27,
                        "passed_time": 0.1589110765,
                        "remaining_time": 0.4086284823,
                        "test": [
                          0.8571428571,
                          0.5134471273
                        ]
                      },
                      {
                        "learn": [
                          0.8465430017,
                          0.4378185411
                        ],
                        "iteration": 28,
                        "passed_time": 0.1641885012,
                        "remaining_time": 0.4019787443,
                        "test": [
                          0.8571428571,
                          0.5119934082
                        ]
                      },
                      {
                        "learn": [
                          0.8465430017,
                          0.435593431
                        ],
                        "iteration": 29,
                        "passed_time": 0.1693953249,
                        "remaining_time": 0.3952557582,
                        "test": [
                          0.8571428571,
                          0.5126720861
                        ]
                      },
                      {
                        "learn": [
                          0.8465430017,
                          0.434274641
                        ],
                        "iteration": 30,
                        "passed_time": 0.1748458385,
                        "remaining_time": 0.3891729954,
                        "test": [
                          0.8571428571,
                          0.5124274569
                        ]
                      },
                      {
                        "learn": [
                          0.8494077834,
                          0.4306407102
                        ],
                        "iteration": 31,
                        "passed_time": 0.1800930786,
                        "remaining_time": 0.382697792,
                        "test": [
                          0.8571428571,
                          0.5145060722
                        ]
                      },
                      {
                        "learn": [
                          0.8561759729,
                          0.4289243378
                        ],
                        "iteration": 32,
                        "passed_time": 0.1902675884,
                        "remaining_time": 0.3863008614,
                        "test": [
                          0.8571428571,
                          0.5162633511
                        ]
                      },
                      {
                        "learn": [
                          0.8522920204,
                          0.4251494025
                        ],
                        "iteration": 33,
                        "passed_time": 0.1955218265,
                        "remaining_time": 0.3795423691,
                        "test": [
                          0.8571428571,
                          0.5182271121
                        ]
                      },
                      {
                        "learn": [
                          0.8581081081,
                          0.421845522
                        ],
                        "iteration": 34,
                        "passed_time": 0.2007945921,
                        "remaining_time": 0.3729042425,
                        "test": [
                          0.864516129,
                          0.5190190282
                        ]
                      },
                      {
                        "learn": [
                          0.8614864865,
                          0.4199040545
                        ],
                        "iteration": 35,
                        "passed_time": 0.2061056244,
                        "remaining_time": 0.3664099989,
                        "test": [
                          0.854368932,
                          0.5204209577
                        ]
                      },
                      {
                        "learn": [
                          0.8653198653,
                          0.4171319298
                        ],
                        "iteration": 36,
                        "passed_time": 0.211553396,
                        "remaining_time": 0.3602125391,
                        "test": [
                          0.854368932,
                          0.5214906138
                        ]
                      },
                      {
                        "learn": [
                          0.8716216216,
                          0.4144979881
                        ],
                        "iteration": 37,
                        "passed_time": 0.2168056561,
                        "remaining_time": 0.3537355441,
                        "test": [
                          0.8478964401,
                          0.5207080183
                        ]
                      },
                      {
                        "learn": [
                          0.8735244519,
                          0.4117899057
                        ],
                        "iteration": 38,
                        "passed_time": 0.222069054,
                        "remaining_time": 0.3473387767,
                        "test": [
                          0.8393442623,
                          0.5195155402
                        ]
                      },
                      {
                        "learn": [
                          0.8730964467,
                          0.4097556975
                        ],
                        "iteration": 39,
                        "passed_time": 0.2276190357,
                        "remaining_time": 0.3414285535,
                        "test": [
                          0.8506493506,
                          0.5209325405
                        ]
                      },
                      {
                        "learn": [
                          0.8745762712,
                          0.4078780868
                        ],
                        "iteration": 40,
                        "passed_time": 0.2329155763,
                        "remaining_time": 0.3351711951,
                        "test": [
                          0.8469055375,
                          0.5220733793
                        ]
                      },
                      {
                        "learn": [
                          0.8798646362,
                          0.4053535926
                        ],
                        "iteration": 41,
                        "passed_time": 0.2383752097,
                        "remaining_time": 0.3291848134,
                        "test": [
                          0.8431372549,
                          0.522025611
                        ]
                      },
                      {
                        "learn": [
                          0.8836424958,
                          0.4017800658
                        ],
                        "iteration": 42,
                        "passed_time": 0.2438133227,
                        "remaining_time": 0.3231944045,
                        "test": [
                          0.8403908795,
                          0.5207851015
                        ]
                      },
                      {
                        "learn": [
                          0.8851351351,
                          0.3997034969
                        ],
                        "iteration": 43,
                        "passed_time": 0.2490698588,
                        "remaining_time": 0.3169980021,
                        "test": [
                          0.8431372549,
                          0.5219239484
                        ]
                      },
                      {
                        "learn": [
                          0.8851351351,
                          0.3984570283
                        ],
                        "iteration": 44,
                        "passed_time": 0.2543638192,
                        "remaining_time": 0.3108891124,
                        "test": [
                          0.8469055375,
                          0.5209278802
                        ]
                      },
                      {
                        "learn": [
                          0.8851351351,
                          0.3952558754
                        ],
                        "iteration": 45,
                        "passed_time": 0.259633632,
                        "remaining_time": 0.3047873071,
                        "test": [
                          0.8431372549,
                          0.5233359501
                        ]
                      },
                      {
                        "learn": [
                          0.8851351351,
                          0.3929628989
                        ],
                        "iteration": 46,
                        "passed_time": 0.2652302109,
                        "remaining_time": 0.2990893868,
                        "test": [
                          0.8469055375,
                          0.5232477799
                        ]
                      },
                      {
                        "learn": [
                          0.8851351351,
                          0.390676271
                        ],
                        "iteration": 47,
                        "passed_time": 0.2704505815,
                        "remaining_time": 0.2929881299,
                        "test": [
                          0.8516129032,
                          0.5214267223
                        ]
                      },
                      {
                        "learn": [
                          0.883248731,
                          0.388110901
                        ],
                        "iteration": 48,
                        "passed_time": 0.2756772651,
                        "remaining_time": 0.2869293984,
                        "test": [
                          0.854368932,
                          0.521101665
                        ]
                      },
                      {
                        "learn": [
                          0.8866328257,
                          0.3861216895
                        ],
                        "iteration": 49,
                        "passed_time": 0.2810200912,
                        "remaining_time": 0.2810200912,
                        "test": [
                          0.8478964401,
                          0.5227270267
                        ]
                      },
                      {
                        "learn": [
                          0.8896434635,
                          0.3840173503
                        ],
                        "iteration": 50,
                        "passed_time": 0.286342797,
                        "remaining_time": 0.2751136677,
                        "test": [
                          0.8516129032,
                          0.5227479982
                        ]
                      },
                      {
                        "learn": [
                          0.8918918919,
                          0.3808211352
                        ],
                        "iteration": 51,
                        "passed_time": 0.2916412965,
                        "remaining_time": 0.2692073506,
                        "test": [
                          0.8478964401,
                          0.5226067228
                        ]
                      },
                      {
                        "learn": [
                          0.8918918919,
                          0.3783200303
                        ],
                        "iteration": 52,
                        "passed_time": 0.2967800104,
                        "remaining_time": 0.2631822734,
                        "test": [
                          0.8441558442,
                          0.5234931232
                        ]
                      },
                      {
                        "learn": [
                          0.8918918919,
                          0.3772040597
                        ],
                        "iteration": 53,
                        "passed_time": 0.3020509002,
                        "remaining_time": 0.2573026187,
                        "test": [
                          0.8441558442,
                          0.5231526192
                        ]
                      },
                      {
                        "learn": [
                          0.8900169205,
                          0.3758318824
                        ],
                        "iteration": 54,
                        "passed_time": 0.3071497787,
                        "remaining_time": 0.2513043644,
                        "test": [
                          0.8441558442,
                          0.5230524223
                        ]
                      },
                      {
                        "learn": [
                          0.8930390492,
                          0.3743909107
                        ],
                        "iteration": 55,
                        "passed_time": 0.3123797952,
                        "remaining_time": 0.2454412677,
                        "test": [
                          0.8469055375,
                          0.5238052518
                        ]
                      },
                      {
                        "learn": [
                          0.8930390492,
                          0.3720871677
                        ],
                        "iteration": 56,
                        "passed_time": 0.3177024723,
                        "remaining_time": 0.2396702861,
                        "test": [
                          0.8469055375,
                          0.5252569791
                        ]
                      },
                      {
                        "learn": [
                          0.8945578231,
                          0.3713437565
                        ],
                        "iteration": 57,
                        "passed_time": 0.3229386067,
                        "remaining_time": 0.2338520945,
                        "test": [
                          0.8469055375,
                          0.5255591482
                        ]
                      },
                      {
                        "learn": [
                          0.8949152542,
                          0.3679988518
                        ],
                        "iteration": 58,
                        "passed_time": 0.3280966626,
                        "remaining_time": 0.2279993757,
                        "test": [
                          0.8431372549,
                          0.5269472094
                        ]
                      },
                      {
                        "learn": [
                          0.896434635,
                          0.3657476049
                        ],
                        "iteration": 59,
                        "passed_time": 0.3332995604,
                        "remaining_time": 0.2221997069,
                        "test": [
                          0.8459016393,
                          0.5273348804
                        ]
                      },
                      {
                        "learn": [
                          0.8983050847,
                          0.3640045389
                        ],
                        "iteration": 60,
                        "passed_time": 0.338486733,
                        "remaining_time": 0.2164095506,
                        "test": [
                          0.8431372549,
                          0.5259974062
                        ]
                      },
                      {
                        "learn": [
                          0.8979591837,
                          0.3615571182
                        ],
                        "iteration": 61,
                        "passed_time": 0.3436018106,
                        "remaining_time": 0.2105946581,
                        "test": [
                          0.8459016393,
                          0.5256475439
                        ]
                      },
                      {
                        "learn": [
                          0.9013605442,
                          0.3588706061
                        ],
                        "iteration": 62,
                        "passed_time": 0.348775963,
                        "remaining_time": 0.2048366767,
                        "test": [
                          0.8459016393,
                          0.5258180966
                        ]
                      },
                      {
                        "learn": [
                          0.9013605442,
                          0.3575430543
                        ],
                        "iteration": 63,
                        "passed_time": 0.3539439297,
                        "remaining_time": 0.1990934605,
                        "test": [
                          0.8459016393,
                          0.5256550606
                        ]
                      },
                      {
                        "learn": [
                          0.9010238908,
                          0.3557287063
                        ],
                        "iteration": 64,
                        "passed_time": 0.3592617225,
                        "remaining_time": 0.1934486198,
                        "test": [
                          0.8459016393,
                          0.5271266693
                        ]
                      },
                      {
                        "learn": [
                          0.9028960818,
                          0.3541626199
                        ],
                        "iteration": 65,
                        "passed_time": 0.3653311433,
                        "remaining_time": 0.188200892,
                        "test": [
                          0.8496732026,
                          0.526611704
                        ]
                      },
                      {
                        "learn": [
                          0.9028960818,
                          0.3528097853
                        ],
                        "iteration": 66,
                        "passed_time": 0.3706036303,
                        "remaining_time": 0.1825361164,
                        "test": [
                          0.8496732026,
                          0.5269595367
                        ]
                      },
                      {
                        "learn": [
                          0.9028960818,
                          0.3515677719
                        ],
                        "iteration": 67,
                        "passed_time": 0.381141974,
                        "remaining_time": 0.179360929,
                        "test": [
                          0.8496732026,
                          0.526582126
                        ]
                      },
                      {
                        "learn": [
                          0.9028960818,
                          0.3504027578
                        ],
                        "iteration": 68,
                        "passed_time": 0.3866684955,
                        "remaining_time": 0.1737206284,
                        "test": [
                          0.8496732026,
                          0.5271153192
                        ]
                      },
                      {
                        "learn": [
                          0.9047619048,
                          0.3490000258
                        ],
                        "iteration": 69,
                        "passed_time": 0.3919886046,
                        "remaining_time": 0.1679951163,
                        "test": [
                          0.8534201954,
                          0.5265605156
                        ]
                      },
                      {
                        "learn": [
                          0.9028960818,
                          0.3471767305
                        ],
                        "iteration": 70,
                        "passed_time": 0.3971299396,
                        "remaining_time": 0.1622080035,
                        "test": [
                          0.8571428571,
                          0.5272438538
                        ]
                      },
                      {
                        "learn": [
                          0.9028960818,
                          0.3456748721
                        ],
                        "iteration": 71,
                        "passed_time": 0.4024745319,
                        "remaining_time": 0.1565178735,
                        "test": [
                          0.8562091503,
                          0.5255437391
                        ]
                      },
                      {
                        "learn": [
                          0.9028960818,
                          0.3441420878
                        ],
                        "iteration": 72,
                        "passed_time": 0.4079005339,
                        "remaining_time": 0.1508673208,
                        "test": [
                          0.8599348534,
                          0.5258115571
                        ]
                      },
                      {
                        "learn": [
                          0.9028960818,
                          0.342778004
                        ],
                        "iteration": 73,
                        "passed_time": 0.4131826995,
                        "remaining_time": 0.1451722998,
                        "test": [
                          0.8562091503,
                          0.5264939933
                        ]
                      },
                      {
                        "learn": [
                          0.9044368601,
                          0.3409345121
                        ],
                        "iteration": 74,
                        "passed_time": 0.4186667488,
                        "remaining_time": 0.1395555829,
                        "test": [
                          0.8562091503,
                          0.5260024799
                        ]
                      },
                      {
                        "learn": [
                          0.9044368601,
                          0.3396748638
                        ],
                        "iteration": 75,
                        "passed_time": 0.4240022796,
                        "remaining_time": 0.1338954567,
                        "test": [
                          0.8486842105,
                          0.526696191
                        ]
                      },
                      {
                        "learn": [
                          0.9063032368,
                          0.3388014373
                        ],
                        "iteration": 76,
                        "passed_time": 0.4292897542,
                        "remaining_time": 0.1282294071,
                        "test": [
                          0.8486842105,
                          0.5266384632
                        ]
                      },
                      {
                        "learn": [
                          0.9063032368,
                          0.33716199
                        ],
                        "iteration": 77,
                        "passed_time": 0.4344822647,
                        "remaining_time": 0.1225462798,
                        "test": [
                          0.8486842105,
                          0.5254810502
                        ]
                      },
                      {
                        "learn": [
                          0.9063032368,
                          0.3353760805
                        ],
                        "iteration": 78,
                        "passed_time": 0.4400762464,
                        "remaining_time": 0.1169822934,
                        "test": [
                          0.8562091503,
                          0.5229659057
                        ]
                      },
                      {
                        "learn": [
                          0.9078498294,
                          0.3334085506
                        ],
                        "iteration": 79,
                        "passed_time": 0.4454070464,
                        "remaining_time": 0.1113517616,
                        "test": [
                          0.8562091503,
                          0.5245074192
                        ]
                      },
                      {
                        "learn": [
                          0.9094017094,
                          0.3315763079
                        ],
                        "iteration": 80,
                        "passed_time": 0.4506357458,
                        "remaining_time": 0.1057046811,
                        "test": [
                          0.8562091503,
                          0.5272611045
                        ]
                      },
                      {
                        "learn": [
                          0.9078498294,
                          0.3291836481
                        ],
                        "iteration": 81,
                        "passed_time": 0.4559284622,
                        "remaining_time": 0.1000818576,
                        "test": [
                          0.8534201954,
                          0.5264456613
                        ]
                      },
                      {
                        "learn": [
                          0.9146757679,
                          0.3274285532
                        ],
                        "iteration": 82,
                        "passed_time": 0.4612897385,
                        "remaining_time": 0.09448103079,
                        "test": [
                          0.8506493506,
                          0.5272273923
                        ]
                      },
                      {
                        "learn": [
                          0.9178082192,
                          0.3265876863
                        ],
                        "iteration": 83,
                        "passed_time": 0.4665945246,
                        "remaining_time": 0.08887514755,
                        "test": [
                          0.8496732026,
                          0.5287625543
                        ]
                      },
                      {
                        "learn": [
                          0.9162393162,
                          0.325286791
                        ],
                        "iteration": 84,
                        "passed_time": 0.4718363999,
                        "remaining_time": 0.08326524705,
                        "test": [
                          0.8496732026,
                          0.5301024338
                        ]
                      },
                      {
                        "learn": [
                          0.9193825043,
                          0.32328711
                        ],
                        "iteration": 85,
                        "passed_time": 0.4771366843,
                        "remaining_time": 0.07767341373,
                        "test": [
                          0.8469055375,
                          0.530690912
                        ]
                      },
                      {
                        "learn": [
                          0.9193825043,
                          0.3223349764
                        ],
                        "iteration": 86,
                        "passed_time": 0.48235085,
                        "remaining_time": 0.07207541437,
                        "test": [
                          0.8534201954,
                          0.5302720093
                        ]
                      },
                      {
                        "learn": [
                          0.9243986254,
                          0.3205990014
                        ],
                        "iteration": 87,
                        "passed_time": 0.4875105799,
                        "remaining_time": 0.06647871545,
                        "test": [
                          0.8534201954,
                          0.5298304816
                        ]
                      },
                      {
                        "learn": [
                          0.9243986254,
                          0.3188557497
                        ],
                        "iteration": 88,
                        "passed_time": 0.4926582711,
                        "remaining_time": 0.06089034811,
                        "test": [
                          0.8534201954,
                          0.5297704612
                        ]
                      },
                      {
                        "learn": [
                          0.9275862069,
                          0.317600705
                        ],
                        "iteration": 89,
                        "passed_time": 0.4980255979,
                        "remaining_time": 0.05533617754,
                        "test": [
                          0.8599348534,
                          0.5295407901
                        ]
                      },
                      {
                        "learn": [
                          0.925989673,
                          0.3171673332
                        ],
                        "iteration": 90,
                        "passed_time": 0.5031901226,
                        "remaining_time": 0.04976605608,
                        "test": [
                          0.8599348534,
                          0.5294357074
                        ]
                      },
                      {
                        "learn": [
                          0.9275862069,
                          0.316409777
                        ],
                        "iteration": 91,
                        "passed_time": 0.5145278491,
                        "remaining_time": 0.0447415521,
                        "test": [
                          0.8534201954,
                          0.53039874
                        ]
                      },
                      {
                        "learn": [
                          0.9222797927,
                          0.3151529874
                        ],
                        "iteration": 92,
                        "passed_time": 0.5197580109,
                        "remaining_time": 0.03912157071,
                        "test": [
                          0.8534201954,
                          0.5290415346
                        ]
                      },
                      {
                        "learn": [
                          0.9238754325,
                          0.3139892727
                        ],
                        "iteration": 93,
                        "passed_time": 0.5250594654,
                        "remaining_time": 0.03351443396,
                        "test": [
                          0.8534201954,
                          0.5298978308
                        ]
                      },
                      {
                        "learn": [
                          0.924137931,
                          0.3135476217
                        ],
                        "iteration": 94,
                        "passed_time": 0.5302301497,
                        "remaining_time": 0.02790684998,
                        "test": [
                          0.8496732026,
                          0.5300632721
                        ]
                      },
                      {
                        "learn": [
                          0.9225473322,
                          0.312084857
                        ],
                        "iteration": 95,
                        "passed_time": 0.5355290353,
                        "remaining_time": 0.0223137098,
                        "test": [
                          0.8486842105,
                          0.5299236504
                        ]
                      },
                      {
                        "learn": [
                          0.9225473322,
                          0.3115062853
                        ],
                        "iteration": 96,
                        "passed_time": 0.5407244103,
                        "remaining_time": 0.01672343537,
                        "test": [
                          0.8486842105,
                          0.5302004509
                        ]
                      },
                      {
                        "learn": [
                          0.9225473322,
                          0.3108690916
                        ],
                        "iteration": 97,
                        "passed_time": 0.5458697356,
                        "remaining_time": 0.01114019869,
                        "test": [
                          0.8524590164,
                          0.5304152766
                        ]
                      },
                      {
                        "learn": [
                          0.9225473322,
                          0.3099003627
                        ],
                        "iteration": 98,
                        "passed_time": 0.5509485246,
                        "remaining_time": 0.005565136612,
                        "test": [
                          0.8496732026,
                          0.5294331894
                        ]
                      },
                      {
                        "learn": [
                          0.9225473322,
                          0.3082851401
                        ],
                        "iteration": 99,
                        "passed_time": 0.5560928759,
                        "remaining_time": 0,
                        "test": [
                          0.8459016393,
                          0.5320039946
                        ]
                      }
                    ],
                    "meta": {
                      "test_sets": [
                        "test"
                      ],
                      "test_metrics": [
                        {
                          "best_value": "Max",
                          "name": "F1"
                        },
                        {
                          "best_value": "Min",
                          "name": "Logloss"
                        }
                      ],
                      "learn_metrics": [
                        {
                          "best_value": "Max",
                          "name": "F1"
                        },
                        {
                          "best_value": "Min",
                          "name": "Logloss"
                        }
                      ],
                      "launch_mode": "Train",
                      "parameters": "",
                      "iteration_count": 100,
                      "learn_sets": [
                        "learn"
                      ],
                      "name": "experiment"
                    }
                  }
                }
              }
            },
            "layout": "IPY_MODEL_ef0cfa3ab50a458bb2a11169ef88989f"
          }
        }
      }
    }
  },
  "cells": [
    {
      "cell_type": "code",
      "metadata": {
        "id": "VAgu4i6g4WE2",
        "outputId": "f95459cc-1ae9-49c7-bf6d-df6a1a1d6607",
        "colab": {
          "base_uri": "https://localhost:8080/"
        }
      },
      "source": [
        "!pip install catboost"
      ],
      "execution_count": null,
      "outputs": [
        {
          "output_type": "stream",
          "name": "stdout",
          "text": [
            "Looking in indexes: https://pypi.org/simple, https://us-python.pkg.dev/colab-wheels/public/simple/\n",
            "Collecting catboost\n",
            "  Downloading catboost-1.0.6-cp37-none-manylinux1_x86_64.whl (76.6 MB)\n",
            "\u001b[K     |████████████████████████████████| 76.6 MB 1.2 MB/s \n",
            "\u001b[?25hRequirement already satisfied: numpy>=1.16.0 in /usr/local/lib/python3.7/dist-packages (from catboost) (1.21.6)\n",
            "Requirement already satisfied: six in /usr/local/lib/python3.7/dist-packages (from catboost) (1.15.0)\n",
            "Requirement already satisfied: plotly in /usr/local/lib/python3.7/dist-packages (from catboost) (5.5.0)\n",
            "Requirement already satisfied: graphviz in /usr/local/lib/python3.7/dist-packages (from catboost) (0.10.1)\n",
            "Requirement already satisfied: scipy in /usr/local/lib/python3.7/dist-packages (from catboost) (1.7.3)\n",
            "Requirement already satisfied: pandas>=0.24.0 in /usr/local/lib/python3.7/dist-packages (from catboost) (1.3.5)\n",
            "Requirement already satisfied: matplotlib in /usr/local/lib/python3.7/dist-packages (from catboost) (3.2.2)\n",
            "Requirement already satisfied: pytz>=2017.3 in /usr/local/lib/python3.7/dist-packages (from pandas>=0.24.0->catboost) (2022.2.1)\n",
            "Requirement already satisfied: python-dateutil>=2.7.3 in /usr/local/lib/python3.7/dist-packages (from pandas>=0.24.0->catboost) (2.8.2)\n",
            "Requirement already satisfied: cycler>=0.10 in /usr/local/lib/python3.7/dist-packages (from matplotlib->catboost) (0.11.0)\n",
            "Requirement already satisfied: kiwisolver>=1.0.1 in /usr/local/lib/python3.7/dist-packages (from matplotlib->catboost) (1.4.4)\n",
            "Requirement already satisfied: pyparsing!=2.0.4,!=2.1.2,!=2.1.6,>=2.0.1 in /usr/local/lib/python3.7/dist-packages (from matplotlib->catboost) (3.0.9)\n",
            "Requirement already satisfied: typing-extensions in /usr/local/lib/python3.7/dist-packages (from kiwisolver>=1.0.1->matplotlib->catboost) (4.1.1)\n",
            "Requirement already satisfied: tenacity>=6.2.0 in /usr/local/lib/python3.7/dist-packages (from plotly->catboost) (8.0.1)\n",
            "Installing collected packages: catboost\n",
            "Successfully installed catboost-1.0.6\n"
          ]
        }
      ]
    },
    {
      "cell_type": "code",
      "metadata": {
        "id": "8OnzPUF84dPV"
      },
      "source": [
        "import numpy as np\n",
        "import pandas as pd\n",
        "import seaborn as sns\n",
        "import statsmodels.api as sm\n",
        "from catboost import CatBoostClassifier\n",
        "from scipy import stats\n",
        "from sklearn.model_selection import train_test_split\n",
        "from sklearn.metrics import f1_score, accuracy_score"
      ],
      "execution_count": null,
      "outputs": []
    },
    {
      "cell_type": "code",
      "metadata": {
        "id": "Y4-9Zgec5Mu9"
      },
      "source": [
        "def resumetable(df):\n",
        "    print(f\"Dataset Shape: {df.shape}\")\n",
        "    summary = pd.DataFrame(df.dtypes,columns=['dtypes'])\n",
        "    summary = summary.reset_index()\n",
        "    summary['Name'] = summary['index']\n",
        "    summary = summary[['Name','dtypes']]\n",
        "    summary['Missing'] = df.isnull().sum().values    \n",
        "    summary['Uniques'] = df.nunique().values\n",
        "    summary['First Value'] = df.loc[0].values\n",
        "    summary['Second Value'] = df.loc[1].values\n",
        "    return summary"
      ],
      "execution_count": null,
      "outputs": []
    },
    {
      "cell_type": "code",
      "metadata": {
        "id": "wWCnybbgUDci",
        "colab": {
          "base_uri": "https://localhost:8080/"
        },
        "outputId": "057e59e5-c865-42ad-ea23-8bd8724bf0e0"
      },
      "source": [
        "!ls"
      ],
      "execution_count": null,
      "outputs": [
        {
          "output_type": "stream",
          "name": "stdout",
          "text": [
            "data.csv  sample_data\n"
          ]
        }
      ]
    },
    {
      "cell_type": "code",
      "metadata": {
        "id": "BBSz0k6Y47su"
      },
      "source": [
        "file_loc = \"data.csv\""
      ],
      "execution_count": null,
      "outputs": []
    },
    {
      "cell_type": "code",
      "metadata": {
        "id": "VApPPwXY4l5X"
      },
      "source": [
        "df = pd.read_csv(file_loc)"
      ],
      "execution_count": null,
      "outputs": []
    },
    {
      "cell_type": "code",
      "metadata": {
        "id": "XB_pQwFu46mO",
        "outputId": "09b24d56-06b3-4184-bac8-f9abdff6e817",
        "colab": {
          "base_uri": "https://localhost:8080/",
          "height": 206
        }
      },
      "source": [
        "df.head()"
      ],
      "execution_count": null,
      "outputs": [
        {
          "output_type": "execute_result",
          "data": {
            "text/plain": [
              "   ApplicantIncome  CoapplicantIncome  LoanAmount  Loan_Amount_Term  \\\n",
              "0           5849.0                0.0         0.0             360.0   \n",
              "1           4583.0             1508.0       128.0             360.0   \n",
              "2           3000.0                0.0        66.0             360.0   \n",
              "3           2583.0             2358.0       120.0             360.0   \n",
              "4           6000.0                0.0       141.0             360.0   \n",
              "\n",
              "  Credit_History  Loan_Status  \n",
              "0            Yes            1  \n",
              "1            Yes            0  \n",
              "2            Yes            1  \n",
              "3            Yes            1  \n",
              "4            Yes            1  "
            ],
            "text/html": [
              "\n",
              "  <div id=\"df-1b575f8b-7bd1-4a44-90b4-09d391d1d593\">\n",
              "    <div class=\"colab-df-container\">\n",
              "      <div>\n",
              "<style scoped>\n",
              "    .dataframe tbody tr th:only-of-type {\n",
              "        vertical-align: middle;\n",
              "    }\n",
              "\n",
              "    .dataframe tbody tr th {\n",
              "        vertical-align: top;\n",
              "    }\n",
              "\n",
              "    .dataframe thead th {\n",
              "        text-align: right;\n",
              "    }\n",
              "</style>\n",
              "<table border=\"1\" class=\"dataframe\">\n",
              "  <thead>\n",
              "    <tr style=\"text-align: right;\">\n",
              "      <th></th>\n",
              "      <th>ApplicantIncome</th>\n",
              "      <th>CoapplicantIncome</th>\n",
              "      <th>LoanAmount</th>\n",
              "      <th>Loan_Amount_Term</th>\n",
              "      <th>Credit_History</th>\n",
              "      <th>Loan_Status</th>\n",
              "    </tr>\n",
              "  </thead>\n",
              "  <tbody>\n",
              "    <tr>\n",
              "      <th>0</th>\n",
              "      <td>5849.0</td>\n",
              "      <td>0.0</td>\n",
              "      <td>0.0</td>\n",
              "      <td>360.0</td>\n",
              "      <td>Yes</td>\n",
              "      <td>1</td>\n",
              "    </tr>\n",
              "    <tr>\n",
              "      <th>1</th>\n",
              "      <td>4583.0</td>\n",
              "      <td>1508.0</td>\n",
              "      <td>128.0</td>\n",
              "      <td>360.0</td>\n",
              "      <td>Yes</td>\n",
              "      <td>0</td>\n",
              "    </tr>\n",
              "    <tr>\n",
              "      <th>2</th>\n",
              "      <td>3000.0</td>\n",
              "      <td>0.0</td>\n",
              "      <td>66.0</td>\n",
              "      <td>360.0</td>\n",
              "      <td>Yes</td>\n",
              "      <td>1</td>\n",
              "    </tr>\n",
              "    <tr>\n",
              "      <th>3</th>\n",
              "      <td>2583.0</td>\n",
              "      <td>2358.0</td>\n",
              "      <td>120.0</td>\n",
              "      <td>360.0</td>\n",
              "      <td>Yes</td>\n",
              "      <td>1</td>\n",
              "    </tr>\n",
              "    <tr>\n",
              "      <th>4</th>\n",
              "      <td>6000.0</td>\n",
              "      <td>0.0</td>\n",
              "      <td>141.0</td>\n",
              "      <td>360.0</td>\n",
              "      <td>Yes</td>\n",
              "      <td>1</td>\n",
              "    </tr>\n",
              "  </tbody>\n",
              "</table>\n",
              "</div>\n",
              "      <button class=\"colab-df-convert\" onclick=\"convertToInteractive('df-1b575f8b-7bd1-4a44-90b4-09d391d1d593')\"\n",
              "              title=\"Convert this dataframe to an interactive table.\"\n",
              "              style=\"display:none;\">\n",
              "        \n",
              "  <svg xmlns=\"http://www.w3.org/2000/svg\" height=\"24px\"viewBox=\"0 0 24 24\"\n",
              "       width=\"24px\">\n",
              "    <path d=\"M0 0h24v24H0V0z\" fill=\"none\"/>\n",
              "    <path d=\"M18.56 5.44l.94 2.06.94-2.06 2.06-.94-2.06-.94-.94-2.06-.94 2.06-2.06.94zm-11 1L8.5 8.5l.94-2.06 2.06-.94-2.06-.94L8.5 2.5l-.94 2.06-2.06.94zm10 10l.94 2.06.94-2.06 2.06-.94-2.06-.94-.94-2.06-.94 2.06-2.06.94z\"/><path d=\"M17.41 7.96l-1.37-1.37c-.4-.4-.92-.59-1.43-.59-.52 0-1.04.2-1.43.59L10.3 9.45l-7.72 7.72c-.78.78-.78 2.05 0 2.83L4 21.41c.39.39.9.59 1.41.59.51 0 1.02-.2 1.41-.59l7.78-7.78 2.81-2.81c.8-.78.8-2.07 0-2.86zM5.41 20L4 18.59l7.72-7.72 1.47 1.35L5.41 20z\"/>\n",
              "  </svg>\n",
              "      </button>\n",
              "      \n",
              "  <style>\n",
              "    .colab-df-container {\n",
              "      display:flex;\n",
              "      flex-wrap:wrap;\n",
              "      gap: 12px;\n",
              "    }\n",
              "\n",
              "    .colab-df-convert {\n",
              "      background-color: #E8F0FE;\n",
              "      border: none;\n",
              "      border-radius: 50%;\n",
              "      cursor: pointer;\n",
              "      display: none;\n",
              "      fill: #1967D2;\n",
              "      height: 32px;\n",
              "      padding: 0 0 0 0;\n",
              "      width: 32px;\n",
              "    }\n",
              "\n",
              "    .colab-df-convert:hover {\n",
              "      background-color: #E2EBFA;\n",
              "      box-shadow: 0px 1px 2px rgba(60, 64, 67, 0.3), 0px 1px 3px 1px rgba(60, 64, 67, 0.15);\n",
              "      fill: #174EA6;\n",
              "    }\n",
              "\n",
              "    [theme=dark] .colab-df-convert {\n",
              "      background-color: #3B4455;\n",
              "      fill: #D2E3FC;\n",
              "    }\n",
              "\n",
              "    [theme=dark] .colab-df-convert:hover {\n",
              "      background-color: #434B5C;\n",
              "      box-shadow: 0px 1px 3px 1px rgba(0, 0, 0, 0.15);\n",
              "      filter: drop-shadow(0px 1px 2px rgba(0, 0, 0, 0.3));\n",
              "      fill: #FFFFFF;\n",
              "    }\n",
              "  </style>\n",
              "\n",
              "      <script>\n",
              "        const buttonEl =\n",
              "          document.querySelector('#df-1b575f8b-7bd1-4a44-90b4-09d391d1d593 button.colab-df-convert');\n",
              "        buttonEl.style.display =\n",
              "          google.colab.kernel.accessAllowed ? 'block' : 'none';\n",
              "\n",
              "        async function convertToInteractive(key) {\n",
              "          const element = document.querySelector('#df-1b575f8b-7bd1-4a44-90b4-09d391d1d593');\n",
              "          const dataTable =\n",
              "            await google.colab.kernel.invokeFunction('convertToInteractive',\n",
              "                                                     [key], {});\n",
              "          if (!dataTable) return;\n",
              "\n",
              "          const docLinkHtml = 'Like what you see? Visit the ' +\n",
              "            '<a target=\"_blank\" href=https://colab.research.google.com/notebooks/data_table.ipynb>data table notebook</a>'\n",
              "            + ' to learn more about interactive tables.';\n",
              "          element.innerHTML = '';\n",
              "          dataTable['output_type'] = 'display_data';\n",
              "          await google.colab.output.renderOutput(dataTable, element);\n",
              "          const docLink = document.createElement('div');\n",
              "          docLink.innerHTML = docLinkHtml;\n",
              "          element.appendChild(docLink);\n",
              "        }\n",
              "      </script>\n",
              "    </div>\n",
              "  </div>\n",
              "  "
            ]
          },
          "metadata": {},
          "execution_count": 9
        }
      ]
    },
    {
      "cell_type": "code",
      "metadata": {
        "id": "QtD-QFme4_o9",
        "outputId": "c5cb648e-9388-4f02-da1b-daffcc96bb2c",
        "colab": {
          "base_uri": "https://localhost:8080/"
        }
      },
      "source": [
        "print (\"Total number of rows in dataset = {}\".format(df.shape[0]))\n",
        "print (\"Total number of columns in dataset = {}\".format(df.shape[1]))"
      ],
      "execution_count": null,
      "outputs": [
        {
          "output_type": "stream",
          "name": "stdout",
          "text": [
            "Total number of rows in dataset = 614\n",
            "Total number of columns in dataset = 6\n"
          ]
        }
      ]
    },
    {
      "cell_type": "code",
      "metadata": {
        "id": "VfGknafk5INC",
        "outputId": "ed2561bf-1148-42fb-e10d-e1e1483501bb",
        "colab": {
          "base_uri": "https://localhost:8080/",
          "height": 255
        }
      },
      "source": [
        "result = resumetable(df)\n",
        "result"
      ],
      "execution_count": null,
      "outputs": [
        {
          "output_type": "stream",
          "name": "stdout",
          "text": [
            "Dataset Shape: (614, 6)\n"
          ]
        },
        {
          "output_type": "execute_result",
          "data": {
            "text/plain": [
              "                Name   dtypes  Missing  Uniques First Value Second Value\n",
              "0    ApplicantIncome  float64        2      503      5849.0       4583.0\n",
              "1  CoapplicantIncome  float64        2      287         0.0       1508.0\n",
              "2         LoanAmount  float64        3      203         0.0        128.0\n",
              "3   Loan_Amount_Term  float64        2       11       360.0        360.0\n",
              "4     Credit_History   object        0        2         Yes          Yes\n",
              "5        Loan_Status    int64        0        2           1            0"
            ],
            "text/html": [
              "\n",
              "  <div id=\"df-7a84b6aa-5561-4b12-b521-ec95dd8bacb8\">\n",
              "    <div class=\"colab-df-container\">\n",
              "      <div>\n",
              "<style scoped>\n",
              "    .dataframe tbody tr th:only-of-type {\n",
              "        vertical-align: middle;\n",
              "    }\n",
              "\n",
              "    .dataframe tbody tr th {\n",
              "        vertical-align: top;\n",
              "    }\n",
              "\n",
              "    .dataframe thead th {\n",
              "        text-align: right;\n",
              "    }\n",
              "</style>\n",
              "<table border=\"1\" class=\"dataframe\">\n",
              "  <thead>\n",
              "    <tr style=\"text-align: right;\">\n",
              "      <th></th>\n",
              "      <th>Name</th>\n",
              "      <th>dtypes</th>\n",
              "      <th>Missing</th>\n",
              "      <th>Uniques</th>\n",
              "      <th>First Value</th>\n",
              "      <th>Second Value</th>\n",
              "    </tr>\n",
              "  </thead>\n",
              "  <tbody>\n",
              "    <tr>\n",
              "      <th>0</th>\n",
              "      <td>ApplicantIncome</td>\n",
              "      <td>float64</td>\n",
              "      <td>2</td>\n",
              "      <td>503</td>\n",
              "      <td>5849.0</td>\n",
              "      <td>4583.0</td>\n",
              "    </tr>\n",
              "    <tr>\n",
              "      <th>1</th>\n",
              "      <td>CoapplicantIncome</td>\n",
              "      <td>float64</td>\n",
              "      <td>2</td>\n",
              "      <td>287</td>\n",
              "      <td>0.0</td>\n",
              "      <td>1508.0</td>\n",
              "    </tr>\n",
              "    <tr>\n",
              "      <th>2</th>\n",
              "      <td>LoanAmount</td>\n",
              "      <td>float64</td>\n",
              "      <td>3</td>\n",
              "      <td>203</td>\n",
              "      <td>0.0</td>\n",
              "      <td>128.0</td>\n",
              "    </tr>\n",
              "    <tr>\n",
              "      <th>3</th>\n",
              "      <td>Loan_Amount_Term</td>\n",
              "      <td>float64</td>\n",
              "      <td>2</td>\n",
              "      <td>11</td>\n",
              "      <td>360.0</td>\n",
              "      <td>360.0</td>\n",
              "    </tr>\n",
              "    <tr>\n",
              "      <th>4</th>\n",
              "      <td>Credit_History</td>\n",
              "      <td>object</td>\n",
              "      <td>0</td>\n",
              "      <td>2</td>\n",
              "      <td>Yes</td>\n",
              "      <td>Yes</td>\n",
              "    </tr>\n",
              "    <tr>\n",
              "      <th>5</th>\n",
              "      <td>Loan_Status</td>\n",
              "      <td>int64</td>\n",
              "      <td>0</td>\n",
              "      <td>2</td>\n",
              "      <td>1</td>\n",
              "      <td>0</td>\n",
              "    </tr>\n",
              "  </tbody>\n",
              "</table>\n",
              "</div>\n",
              "      <button class=\"colab-df-convert\" onclick=\"convertToInteractive('df-7a84b6aa-5561-4b12-b521-ec95dd8bacb8')\"\n",
              "              title=\"Convert this dataframe to an interactive table.\"\n",
              "              style=\"display:none;\">\n",
              "        \n",
              "  <svg xmlns=\"http://www.w3.org/2000/svg\" height=\"24px\"viewBox=\"0 0 24 24\"\n",
              "       width=\"24px\">\n",
              "    <path d=\"M0 0h24v24H0V0z\" fill=\"none\"/>\n",
              "    <path d=\"M18.56 5.44l.94 2.06.94-2.06 2.06-.94-2.06-.94-.94-2.06-.94 2.06-2.06.94zm-11 1L8.5 8.5l.94-2.06 2.06-.94-2.06-.94L8.5 2.5l-.94 2.06-2.06.94zm10 10l.94 2.06.94-2.06 2.06-.94-2.06-.94-.94-2.06-.94 2.06-2.06.94z\"/><path d=\"M17.41 7.96l-1.37-1.37c-.4-.4-.92-.59-1.43-.59-.52 0-1.04.2-1.43.59L10.3 9.45l-7.72 7.72c-.78.78-.78 2.05 0 2.83L4 21.41c.39.39.9.59 1.41.59.51 0 1.02-.2 1.41-.59l7.78-7.78 2.81-2.81c.8-.78.8-2.07 0-2.86zM5.41 20L4 18.59l7.72-7.72 1.47 1.35L5.41 20z\"/>\n",
              "  </svg>\n",
              "      </button>\n",
              "      \n",
              "  <style>\n",
              "    .colab-df-container {\n",
              "      display:flex;\n",
              "      flex-wrap:wrap;\n",
              "      gap: 12px;\n",
              "    }\n",
              "\n",
              "    .colab-df-convert {\n",
              "      background-color: #E8F0FE;\n",
              "      border: none;\n",
              "      border-radius: 50%;\n",
              "      cursor: pointer;\n",
              "      display: none;\n",
              "      fill: #1967D2;\n",
              "      height: 32px;\n",
              "      padding: 0 0 0 0;\n",
              "      width: 32px;\n",
              "    }\n",
              "\n",
              "    .colab-df-convert:hover {\n",
              "      background-color: #E2EBFA;\n",
              "      box-shadow: 0px 1px 2px rgba(60, 64, 67, 0.3), 0px 1px 3px 1px rgba(60, 64, 67, 0.15);\n",
              "      fill: #174EA6;\n",
              "    }\n",
              "\n",
              "    [theme=dark] .colab-df-convert {\n",
              "      background-color: #3B4455;\n",
              "      fill: #D2E3FC;\n",
              "    }\n",
              "\n",
              "    [theme=dark] .colab-df-convert:hover {\n",
              "      background-color: #434B5C;\n",
              "      box-shadow: 0px 1px 3px 1px rgba(0, 0, 0, 0.15);\n",
              "      filter: drop-shadow(0px 1px 2px rgba(0, 0, 0, 0.3));\n",
              "      fill: #FFFFFF;\n",
              "    }\n",
              "  </style>\n",
              "\n",
              "      <script>\n",
              "        const buttonEl =\n",
              "          document.querySelector('#df-7a84b6aa-5561-4b12-b521-ec95dd8bacb8 button.colab-df-convert');\n",
              "        buttonEl.style.display =\n",
              "          google.colab.kernel.accessAllowed ? 'block' : 'none';\n",
              "\n",
              "        async function convertToInteractive(key) {\n",
              "          const element = document.querySelector('#df-7a84b6aa-5561-4b12-b521-ec95dd8bacb8');\n",
              "          const dataTable =\n",
              "            await google.colab.kernel.invokeFunction('convertToInteractive',\n",
              "                                                     [key], {});\n",
              "          if (!dataTable) return;\n",
              "\n",
              "          const docLinkHtml = 'Like what you see? Visit the ' +\n",
              "            '<a target=\"_blank\" href=https://colab.research.google.com/notebooks/data_table.ipynb>data table notebook</a>'\n",
              "            + ' to learn more about interactive tables.';\n",
              "          element.innerHTML = '';\n",
              "          dataTable['output_type'] = 'display_data';\n",
              "          await google.colab.output.renderOutput(dataTable, element);\n",
              "          const docLink = document.createElement('div');\n",
              "          docLink.innerHTML = docLinkHtml;\n",
              "          element.appendChild(docLink);\n",
              "        }\n",
              "      </script>\n",
              "    </div>\n",
              "  </div>\n",
              "  "
            ]
          },
          "metadata": {},
          "execution_count": 11
        }
      ]
    },
    {
      "cell_type": "code",
      "source": [
        "df.head()"
      ],
      "metadata": {
        "colab": {
          "base_uri": "https://localhost:8080/",
          "height": 206
        },
        "id": "6-rYZDsil4R0",
        "outputId": "059a112f-4bbf-484e-aaa2-f1a7a24a4542"
      },
      "execution_count": null,
      "outputs": [
        {
          "output_type": "execute_result",
          "data": {
            "text/plain": [
              "   ApplicantIncome  CoapplicantIncome  LoanAmount  Loan_Amount_Term  \\\n",
              "0           5849.0                0.0         0.0             360.0   \n",
              "1           4583.0             1508.0       128.0             360.0   \n",
              "2           3000.0                0.0        66.0             360.0   \n",
              "3           2583.0             2358.0       120.0             360.0   \n",
              "4           6000.0                0.0       141.0             360.0   \n",
              "\n",
              "  Credit_History  Loan_Status  \n",
              "0            Yes            1  \n",
              "1            Yes            0  \n",
              "2            Yes            1  \n",
              "3            Yes            1  \n",
              "4            Yes            1  "
            ],
            "text/html": [
              "\n",
              "  <div id=\"df-432b5a1a-8baa-44da-be8b-4105d2be5bd4\">\n",
              "    <div class=\"colab-df-container\">\n",
              "      <div>\n",
              "<style scoped>\n",
              "    .dataframe tbody tr th:only-of-type {\n",
              "        vertical-align: middle;\n",
              "    }\n",
              "\n",
              "    .dataframe tbody tr th {\n",
              "        vertical-align: top;\n",
              "    }\n",
              "\n",
              "    .dataframe thead th {\n",
              "        text-align: right;\n",
              "    }\n",
              "</style>\n",
              "<table border=\"1\" class=\"dataframe\">\n",
              "  <thead>\n",
              "    <tr style=\"text-align: right;\">\n",
              "      <th></th>\n",
              "      <th>ApplicantIncome</th>\n",
              "      <th>CoapplicantIncome</th>\n",
              "      <th>LoanAmount</th>\n",
              "      <th>Loan_Amount_Term</th>\n",
              "      <th>Credit_History</th>\n",
              "      <th>Loan_Status</th>\n",
              "    </tr>\n",
              "  </thead>\n",
              "  <tbody>\n",
              "    <tr>\n",
              "      <th>0</th>\n",
              "      <td>5849.0</td>\n",
              "      <td>0.0</td>\n",
              "      <td>0.0</td>\n",
              "      <td>360.0</td>\n",
              "      <td>Yes</td>\n",
              "      <td>1</td>\n",
              "    </tr>\n",
              "    <tr>\n",
              "      <th>1</th>\n",
              "      <td>4583.0</td>\n",
              "      <td>1508.0</td>\n",
              "      <td>128.0</td>\n",
              "      <td>360.0</td>\n",
              "      <td>Yes</td>\n",
              "      <td>0</td>\n",
              "    </tr>\n",
              "    <tr>\n",
              "      <th>2</th>\n",
              "      <td>3000.0</td>\n",
              "      <td>0.0</td>\n",
              "      <td>66.0</td>\n",
              "      <td>360.0</td>\n",
              "      <td>Yes</td>\n",
              "      <td>1</td>\n",
              "    </tr>\n",
              "    <tr>\n",
              "      <th>3</th>\n",
              "      <td>2583.0</td>\n",
              "      <td>2358.0</td>\n",
              "      <td>120.0</td>\n",
              "      <td>360.0</td>\n",
              "      <td>Yes</td>\n",
              "      <td>1</td>\n",
              "    </tr>\n",
              "    <tr>\n",
              "      <th>4</th>\n",
              "      <td>6000.0</td>\n",
              "      <td>0.0</td>\n",
              "      <td>141.0</td>\n",
              "      <td>360.0</td>\n",
              "      <td>Yes</td>\n",
              "      <td>1</td>\n",
              "    </tr>\n",
              "  </tbody>\n",
              "</table>\n",
              "</div>\n",
              "      <button class=\"colab-df-convert\" onclick=\"convertToInteractive('df-432b5a1a-8baa-44da-be8b-4105d2be5bd4')\"\n",
              "              title=\"Convert this dataframe to an interactive table.\"\n",
              "              style=\"display:none;\">\n",
              "        \n",
              "  <svg xmlns=\"http://www.w3.org/2000/svg\" height=\"24px\"viewBox=\"0 0 24 24\"\n",
              "       width=\"24px\">\n",
              "    <path d=\"M0 0h24v24H0V0z\" fill=\"none\"/>\n",
              "    <path d=\"M18.56 5.44l.94 2.06.94-2.06 2.06-.94-2.06-.94-.94-2.06-.94 2.06-2.06.94zm-11 1L8.5 8.5l.94-2.06 2.06-.94-2.06-.94L8.5 2.5l-.94 2.06-2.06.94zm10 10l.94 2.06.94-2.06 2.06-.94-2.06-.94-.94-2.06-.94 2.06-2.06.94z\"/><path d=\"M17.41 7.96l-1.37-1.37c-.4-.4-.92-.59-1.43-.59-.52 0-1.04.2-1.43.59L10.3 9.45l-7.72 7.72c-.78.78-.78 2.05 0 2.83L4 21.41c.39.39.9.59 1.41.59.51 0 1.02-.2 1.41-.59l7.78-7.78 2.81-2.81c.8-.78.8-2.07 0-2.86zM5.41 20L4 18.59l7.72-7.72 1.47 1.35L5.41 20z\"/>\n",
              "  </svg>\n",
              "      </button>\n",
              "      \n",
              "  <style>\n",
              "    .colab-df-container {\n",
              "      display:flex;\n",
              "      flex-wrap:wrap;\n",
              "      gap: 12px;\n",
              "    }\n",
              "\n",
              "    .colab-df-convert {\n",
              "      background-color: #E8F0FE;\n",
              "      border: none;\n",
              "      border-radius: 50%;\n",
              "      cursor: pointer;\n",
              "      display: none;\n",
              "      fill: #1967D2;\n",
              "      height: 32px;\n",
              "      padding: 0 0 0 0;\n",
              "      width: 32px;\n",
              "    }\n",
              "\n",
              "    .colab-df-convert:hover {\n",
              "      background-color: #E2EBFA;\n",
              "      box-shadow: 0px 1px 2px rgba(60, 64, 67, 0.3), 0px 1px 3px 1px rgba(60, 64, 67, 0.15);\n",
              "      fill: #174EA6;\n",
              "    }\n",
              "\n",
              "    [theme=dark] .colab-df-convert {\n",
              "      background-color: #3B4455;\n",
              "      fill: #D2E3FC;\n",
              "    }\n",
              "\n",
              "    [theme=dark] .colab-df-convert:hover {\n",
              "      background-color: #434B5C;\n",
              "      box-shadow: 0px 1px 3px 1px rgba(0, 0, 0, 0.15);\n",
              "      filter: drop-shadow(0px 1px 2px rgba(0, 0, 0, 0.3));\n",
              "      fill: #FFFFFF;\n",
              "    }\n",
              "  </style>\n",
              "\n",
              "      <script>\n",
              "        const buttonEl =\n",
              "          document.querySelector('#df-432b5a1a-8baa-44da-be8b-4105d2be5bd4 button.colab-df-convert');\n",
              "        buttonEl.style.display =\n",
              "          google.colab.kernel.accessAllowed ? 'block' : 'none';\n",
              "\n",
              "        async function convertToInteractive(key) {\n",
              "          const element = document.querySelector('#df-432b5a1a-8baa-44da-be8b-4105d2be5bd4');\n",
              "          const dataTable =\n",
              "            await google.colab.kernel.invokeFunction('convertToInteractive',\n",
              "                                                     [key], {});\n",
              "          if (!dataTable) return;\n",
              "\n",
              "          const docLinkHtml = 'Like what you see? Visit the ' +\n",
              "            '<a target=\"_blank\" href=https://colab.research.google.com/notebooks/data_table.ipynb>data table notebook</a>'\n",
              "            + ' to learn more about interactive tables.';\n",
              "          element.innerHTML = '';\n",
              "          dataTable['output_type'] = 'display_data';\n",
              "          await google.colab.output.renderOutput(dataTable, element);\n",
              "          const docLink = document.createElement('div');\n",
              "          docLink.innerHTML = docLinkHtml;\n",
              "          element.appendChild(docLink);\n",
              "        }\n",
              "      </script>\n",
              "    </div>\n",
              "  </div>\n",
              "  "
            ]
          },
          "metadata": {},
          "execution_count": 16
        }
      ]
    },
    {
      "cell_type": "code",
      "metadata": {
        "id": "bwTgwzIM5PoF"
      },
      "source": [
        "target_col = \"Loan_Status\"\n",
        "x = df.loc[:, df.columns != target_col]\n",
        "y = df[\"Loan_Status\"]"
      ],
      "execution_count": null,
      "outputs": []
    },
    {
      "cell_type": "code",
      "source": [
        "x.head()"
      ],
      "metadata": {
        "colab": {
          "base_uri": "https://localhost:8080/",
          "height": 206
        },
        "id": "y_l9yAamlq4z",
        "outputId": "e269b698-b2af-412c-e1e4-5f7f447b3ff6"
      },
      "execution_count": null,
      "outputs": [
        {
          "output_type": "execute_result",
          "data": {
            "text/plain": [
              "   ApplicantIncome  CoapplicantIncome  LoanAmount  Loan_Amount_Term  \\\n",
              "0           5849.0                0.0         0.0             360.0   \n",
              "1           4583.0             1508.0       128.0             360.0   \n",
              "2           3000.0                0.0        66.0             360.0   \n",
              "3           2583.0             2358.0       120.0             360.0   \n",
              "4           6000.0                0.0       141.0             360.0   \n",
              "\n",
              "  Credit_History  \n",
              "0            Yes  \n",
              "1            Yes  \n",
              "2            Yes  \n",
              "3            Yes  \n",
              "4            Yes  "
            ],
            "text/html": [
              "\n",
              "  <div id=\"df-99d452ef-73c5-4038-9186-16ab88671aef\">\n",
              "    <div class=\"colab-df-container\">\n",
              "      <div>\n",
              "<style scoped>\n",
              "    .dataframe tbody tr th:only-of-type {\n",
              "        vertical-align: middle;\n",
              "    }\n",
              "\n",
              "    .dataframe tbody tr th {\n",
              "        vertical-align: top;\n",
              "    }\n",
              "\n",
              "    .dataframe thead th {\n",
              "        text-align: right;\n",
              "    }\n",
              "</style>\n",
              "<table border=\"1\" class=\"dataframe\">\n",
              "  <thead>\n",
              "    <tr style=\"text-align: right;\">\n",
              "      <th></th>\n",
              "      <th>ApplicantIncome</th>\n",
              "      <th>CoapplicantIncome</th>\n",
              "      <th>LoanAmount</th>\n",
              "      <th>Loan_Amount_Term</th>\n",
              "      <th>Credit_History</th>\n",
              "    </tr>\n",
              "  </thead>\n",
              "  <tbody>\n",
              "    <tr>\n",
              "      <th>0</th>\n",
              "      <td>5849.0</td>\n",
              "      <td>0.0</td>\n",
              "      <td>0.0</td>\n",
              "      <td>360.0</td>\n",
              "      <td>Yes</td>\n",
              "    </tr>\n",
              "    <tr>\n",
              "      <th>1</th>\n",
              "      <td>4583.0</td>\n",
              "      <td>1508.0</td>\n",
              "      <td>128.0</td>\n",
              "      <td>360.0</td>\n",
              "      <td>Yes</td>\n",
              "    </tr>\n",
              "    <tr>\n",
              "      <th>2</th>\n",
              "      <td>3000.0</td>\n",
              "      <td>0.0</td>\n",
              "      <td>66.0</td>\n",
              "      <td>360.0</td>\n",
              "      <td>Yes</td>\n",
              "    </tr>\n",
              "    <tr>\n",
              "      <th>3</th>\n",
              "      <td>2583.0</td>\n",
              "      <td>2358.0</td>\n",
              "      <td>120.0</td>\n",
              "      <td>360.0</td>\n",
              "      <td>Yes</td>\n",
              "    </tr>\n",
              "    <tr>\n",
              "      <th>4</th>\n",
              "      <td>6000.0</td>\n",
              "      <td>0.0</td>\n",
              "      <td>141.0</td>\n",
              "      <td>360.0</td>\n",
              "      <td>Yes</td>\n",
              "    </tr>\n",
              "  </tbody>\n",
              "</table>\n",
              "</div>\n",
              "      <button class=\"colab-df-convert\" onclick=\"convertToInteractive('df-99d452ef-73c5-4038-9186-16ab88671aef')\"\n",
              "              title=\"Convert this dataframe to an interactive table.\"\n",
              "              style=\"display:none;\">\n",
              "        \n",
              "  <svg xmlns=\"http://www.w3.org/2000/svg\" height=\"24px\"viewBox=\"0 0 24 24\"\n",
              "       width=\"24px\">\n",
              "    <path d=\"M0 0h24v24H0V0z\" fill=\"none\"/>\n",
              "    <path d=\"M18.56 5.44l.94 2.06.94-2.06 2.06-.94-2.06-.94-.94-2.06-.94 2.06-2.06.94zm-11 1L8.5 8.5l.94-2.06 2.06-.94-2.06-.94L8.5 2.5l-.94 2.06-2.06.94zm10 10l.94 2.06.94-2.06 2.06-.94-2.06-.94-.94-2.06-.94 2.06-2.06.94z\"/><path d=\"M17.41 7.96l-1.37-1.37c-.4-.4-.92-.59-1.43-.59-.52 0-1.04.2-1.43.59L10.3 9.45l-7.72 7.72c-.78.78-.78 2.05 0 2.83L4 21.41c.39.39.9.59 1.41.59.51 0 1.02-.2 1.41-.59l7.78-7.78 2.81-2.81c.8-.78.8-2.07 0-2.86zM5.41 20L4 18.59l7.72-7.72 1.47 1.35L5.41 20z\"/>\n",
              "  </svg>\n",
              "      </button>\n",
              "      \n",
              "  <style>\n",
              "    .colab-df-container {\n",
              "      display:flex;\n",
              "      flex-wrap:wrap;\n",
              "      gap: 12px;\n",
              "    }\n",
              "\n",
              "    .colab-df-convert {\n",
              "      background-color: #E8F0FE;\n",
              "      border: none;\n",
              "      border-radius: 50%;\n",
              "      cursor: pointer;\n",
              "      display: none;\n",
              "      fill: #1967D2;\n",
              "      height: 32px;\n",
              "      padding: 0 0 0 0;\n",
              "      width: 32px;\n",
              "    }\n",
              "\n",
              "    .colab-df-convert:hover {\n",
              "      background-color: #E2EBFA;\n",
              "      box-shadow: 0px 1px 2px rgba(60, 64, 67, 0.3), 0px 1px 3px 1px rgba(60, 64, 67, 0.15);\n",
              "      fill: #174EA6;\n",
              "    }\n",
              "\n",
              "    [theme=dark] .colab-df-convert {\n",
              "      background-color: #3B4455;\n",
              "      fill: #D2E3FC;\n",
              "    }\n",
              "\n",
              "    [theme=dark] .colab-df-convert:hover {\n",
              "      background-color: #434B5C;\n",
              "      box-shadow: 0px 1px 3px 1px rgba(0, 0, 0, 0.15);\n",
              "      filter: drop-shadow(0px 1px 2px rgba(0, 0, 0, 0.3));\n",
              "      fill: #FFFFFF;\n",
              "    }\n",
              "  </style>\n",
              "\n",
              "      <script>\n",
              "        const buttonEl =\n",
              "          document.querySelector('#df-99d452ef-73c5-4038-9186-16ab88671aef button.colab-df-convert');\n",
              "        buttonEl.style.display =\n",
              "          google.colab.kernel.accessAllowed ? 'block' : 'none';\n",
              "\n",
              "        async function convertToInteractive(key) {\n",
              "          const element = document.querySelector('#df-99d452ef-73c5-4038-9186-16ab88671aef');\n",
              "          const dataTable =\n",
              "            await google.colab.kernel.invokeFunction('convertToInteractive',\n",
              "                                                     [key], {});\n",
              "          if (!dataTable) return;\n",
              "\n",
              "          const docLinkHtml = 'Like what you see? Visit the ' +\n",
              "            '<a target=\"_blank\" href=https://colab.research.google.com/notebooks/data_table.ipynb>data table notebook</a>'\n",
              "            + ' to learn more about interactive tables.';\n",
              "          element.innerHTML = '';\n",
              "          dataTable['output_type'] = 'display_data';\n",
              "          await google.colab.output.renderOutput(dataTable, element);\n",
              "          const docLink = document.createElement('div');\n",
              "          docLink.innerHTML = docLinkHtml;\n",
              "          element.appendChild(docLink);\n",
              "        }\n",
              "      </script>\n",
              "    </div>\n",
              "  </div>\n",
              "  "
            ]
          },
          "metadata": {},
          "execution_count": 26
        }
      ]
    },
    {
      "cell_type": "code",
      "source": [
        "y.head()"
      ],
      "metadata": {
        "colab": {
          "base_uri": "https://localhost:8080/"
        },
        "id": "zHXie6Sol_AX",
        "outputId": "82af8ad5-3697-45cc-a913-1f401043649f"
      },
      "execution_count": null,
      "outputs": [
        {
          "output_type": "execute_result",
          "data": {
            "text/plain": [
              "0    1\n",
              "1    0\n",
              "2    1\n",
              "3    1\n",
              "4    1\n",
              "Name: Loan_Status, dtype: int64"
            ]
          },
          "metadata": {},
          "execution_count": 27
        }
      ]
    },
    {
      "cell_type": "code",
      "source": [
        "x_train, x_test, y_train, y_test = train_test_split(x, y, test_size=0.33, random_state=000)"
      ],
      "metadata": {
        "id": "LqszrsQNmUvZ"
      },
      "execution_count": null,
      "outputs": []
    },
    {
      "cell_type": "code",
      "metadata": {
        "id": "br0OqNWp6m63",
        "outputId": "cc771431-eeb6-4c5e-edf8-a907d2b7cfab",
        "colab": {
          "base_uri": "https://localhost:8080/",
          "height": 206
        }
      },
      "source": [
        "x_train.head()\n"
      ],
      "execution_count": null,
      "outputs": [
        {
          "output_type": "execute_result",
          "data": {
            "text/plain": [
              "     ApplicantIncome  CoapplicantIncome  LoanAmount  Loan_Amount_Term  \\\n",
              "400           2889.0                0.0        45.0             180.0   \n",
              "369          19730.0             5266.0       570.0             360.0   \n",
              "213           5703.0                0.0       130.0             360.0   \n",
              "188            674.0             5296.0       168.0             360.0   \n",
              "610           4106.0                0.0        40.0             180.0   \n",
              "\n",
              "    Credit_History  \n",
              "400             No  \n",
              "369            Yes  \n",
              "213            Yes  \n",
              "188            Yes  \n",
              "610            Yes  "
            ],
            "text/html": [
              "\n",
              "  <div id=\"df-f32f1eb9-b8a0-4946-ac2d-4e962fa1b767\">\n",
              "    <div class=\"colab-df-container\">\n",
              "      <div>\n",
              "<style scoped>\n",
              "    .dataframe tbody tr th:only-of-type {\n",
              "        vertical-align: middle;\n",
              "    }\n",
              "\n",
              "    .dataframe tbody tr th {\n",
              "        vertical-align: top;\n",
              "    }\n",
              "\n",
              "    .dataframe thead th {\n",
              "        text-align: right;\n",
              "    }\n",
              "</style>\n",
              "<table border=\"1\" class=\"dataframe\">\n",
              "  <thead>\n",
              "    <tr style=\"text-align: right;\">\n",
              "      <th></th>\n",
              "      <th>ApplicantIncome</th>\n",
              "      <th>CoapplicantIncome</th>\n",
              "      <th>LoanAmount</th>\n",
              "      <th>Loan_Amount_Term</th>\n",
              "      <th>Credit_History</th>\n",
              "    </tr>\n",
              "  </thead>\n",
              "  <tbody>\n",
              "    <tr>\n",
              "      <th>400</th>\n",
              "      <td>2889.0</td>\n",
              "      <td>0.0</td>\n",
              "      <td>45.0</td>\n",
              "      <td>180.0</td>\n",
              "      <td>No</td>\n",
              "    </tr>\n",
              "    <tr>\n",
              "      <th>369</th>\n",
              "      <td>19730.0</td>\n",
              "      <td>5266.0</td>\n",
              "      <td>570.0</td>\n",
              "      <td>360.0</td>\n",
              "      <td>Yes</td>\n",
              "    </tr>\n",
              "    <tr>\n",
              "      <th>213</th>\n",
              "      <td>5703.0</td>\n",
              "      <td>0.0</td>\n",
              "      <td>130.0</td>\n",
              "      <td>360.0</td>\n",
              "      <td>Yes</td>\n",
              "    </tr>\n",
              "    <tr>\n",
              "      <th>188</th>\n",
              "      <td>674.0</td>\n",
              "      <td>5296.0</td>\n",
              "      <td>168.0</td>\n",
              "      <td>360.0</td>\n",
              "      <td>Yes</td>\n",
              "    </tr>\n",
              "    <tr>\n",
              "      <th>610</th>\n",
              "      <td>4106.0</td>\n",
              "      <td>0.0</td>\n",
              "      <td>40.0</td>\n",
              "      <td>180.0</td>\n",
              "      <td>Yes</td>\n",
              "    </tr>\n",
              "  </tbody>\n",
              "</table>\n",
              "</div>\n",
              "      <button class=\"colab-df-convert\" onclick=\"convertToInteractive('df-f32f1eb9-b8a0-4946-ac2d-4e962fa1b767')\"\n",
              "              title=\"Convert this dataframe to an interactive table.\"\n",
              "              style=\"display:none;\">\n",
              "        \n",
              "  <svg xmlns=\"http://www.w3.org/2000/svg\" height=\"24px\"viewBox=\"0 0 24 24\"\n",
              "       width=\"24px\">\n",
              "    <path d=\"M0 0h24v24H0V0z\" fill=\"none\"/>\n",
              "    <path d=\"M18.56 5.44l.94 2.06.94-2.06 2.06-.94-2.06-.94-.94-2.06-.94 2.06-2.06.94zm-11 1L8.5 8.5l.94-2.06 2.06-.94-2.06-.94L8.5 2.5l-.94 2.06-2.06.94zm10 10l.94 2.06.94-2.06 2.06-.94-2.06-.94-.94-2.06-.94 2.06-2.06.94z\"/><path d=\"M17.41 7.96l-1.37-1.37c-.4-.4-.92-.59-1.43-.59-.52 0-1.04.2-1.43.59L10.3 9.45l-7.72 7.72c-.78.78-.78 2.05 0 2.83L4 21.41c.39.39.9.59 1.41.59.51 0 1.02-.2 1.41-.59l7.78-7.78 2.81-2.81c.8-.78.8-2.07 0-2.86zM5.41 20L4 18.59l7.72-7.72 1.47 1.35L5.41 20z\"/>\n",
              "  </svg>\n",
              "      </button>\n",
              "      \n",
              "  <style>\n",
              "    .colab-df-container {\n",
              "      display:flex;\n",
              "      flex-wrap:wrap;\n",
              "      gap: 12px;\n",
              "    }\n",
              "\n",
              "    .colab-df-convert {\n",
              "      background-color: #E8F0FE;\n",
              "      border: none;\n",
              "      border-radius: 50%;\n",
              "      cursor: pointer;\n",
              "      display: none;\n",
              "      fill: #1967D2;\n",
              "      height: 32px;\n",
              "      padding: 0 0 0 0;\n",
              "      width: 32px;\n",
              "    }\n",
              "\n",
              "    .colab-df-convert:hover {\n",
              "      background-color: #E2EBFA;\n",
              "      box-shadow: 0px 1px 2px rgba(60, 64, 67, 0.3), 0px 1px 3px 1px rgba(60, 64, 67, 0.15);\n",
              "      fill: #174EA6;\n",
              "    }\n",
              "\n",
              "    [theme=dark] .colab-df-convert {\n",
              "      background-color: #3B4455;\n",
              "      fill: #D2E3FC;\n",
              "    }\n",
              "\n",
              "    [theme=dark] .colab-df-convert:hover {\n",
              "      background-color: #434B5C;\n",
              "      box-shadow: 0px 1px 3px 1px rgba(0, 0, 0, 0.15);\n",
              "      filter: drop-shadow(0px 1px 2px rgba(0, 0, 0, 0.3));\n",
              "      fill: #FFFFFF;\n",
              "    }\n",
              "  </style>\n",
              "\n",
              "      <script>\n",
              "        const buttonEl =\n",
              "          document.querySelector('#df-f32f1eb9-b8a0-4946-ac2d-4e962fa1b767 button.colab-df-convert');\n",
              "        buttonEl.style.display =\n",
              "          google.colab.kernel.accessAllowed ? 'block' : 'none';\n",
              "\n",
              "        async function convertToInteractive(key) {\n",
              "          const element = document.querySelector('#df-f32f1eb9-b8a0-4946-ac2d-4e962fa1b767');\n",
              "          const dataTable =\n",
              "            await google.colab.kernel.invokeFunction('convertToInteractive',\n",
              "                                                     [key], {});\n",
              "          if (!dataTable) return;\n",
              "\n",
              "          const docLinkHtml = 'Like what you see? Visit the ' +\n",
              "            '<a target=\"_blank\" href=https://colab.research.google.com/notebooks/data_table.ipynb>data table notebook</a>'\n",
              "            + ' to learn more about interactive tables.';\n",
              "          element.innerHTML = '';\n",
              "          dataTable['output_type'] = 'display_data';\n",
              "          await google.colab.output.renderOutput(dataTable, element);\n",
              "          const docLink = document.createElement('div');\n",
              "          docLink.innerHTML = docLinkHtml;\n",
              "          element.appendChild(docLink);\n",
              "        }\n",
              "      </script>\n",
              "    </div>\n",
              "  </div>\n",
              "  "
            ]
          },
          "metadata": {},
          "execution_count": 43
        }
      ]
    },
    {
      "cell_type": "code",
      "source": [
        "y_train.head()"
      ],
      "metadata": {
        "colab": {
          "base_uri": "https://localhost:8080/"
        },
        "id": "ob1kQxcgmb6M",
        "outputId": "f4181142-6b72-44ed-8223-f24420ba71dc"
      },
      "execution_count": null,
      "outputs": [
        {
          "output_type": "execute_result",
          "data": {
            "text/plain": [
              "400    0\n",
              "369    0\n",
              "213    1\n",
              "188    1\n",
              "610    1\n",
              "Name: Loan_Status, dtype: int64"
            ]
          },
          "metadata": {},
          "execution_count": 44
        }
      ]
    },
    {
      "cell_type": "code",
      "metadata": {
        "id": "zeXK9uaaBc-s",
        "colab": {
          "base_uri": "https://localhost:8080/"
        },
        "outputId": "fabef8b1-09b7-47c7-9d5b-e68debfb6a68"
      },
      "source": [
        "features = list(x_train.columns)\n",
        "features"
      ],
      "execution_count": null,
      "outputs": [
        {
          "output_type": "execute_result",
          "data": {
            "text/plain": [
              "['ApplicantIncome',\n",
              " 'CoapplicantIncome',\n",
              " 'LoanAmount',\n",
              " 'Loan_Amount_Term',\n",
              " 'Credit_History']"
            ]
          },
          "metadata": {},
          "execution_count": 45
        }
      ]
    },
    {
      "cell_type": "code",
      "metadata": {
        "id": "QwgODY1MBgUa",
        "colab": {
          "base_uri": "https://localhost:8080/"
        },
        "outputId": "1cc9b3b0-6e0f-451d-c989-82302e6dc150"
      },
      "source": [
        "cat_features = [\"Credit_History\"]\n",
        "cat_features"
      ],
      "execution_count": null,
      "outputs": [
        {
          "output_type": "execute_result",
          "data": {
            "text/plain": [
              "['Credit_History']"
            ]
          },
          "metadata": {},
          "execution_count": 46
        }
      ]
    },
    {
      "cell_type": "code",
      "metadata": {
        "id": "48aXcEzc6NQP"
      },
      "source": [
        "model_cb = CatBoostClassifier(task_type='GPU', iterations=100, \n",
        "                              random_state = 2021, \n",
        "                              eval_metric=\"F1\")"
      ],
      "execution_count": null,
      "outputs": []
    },
    {
      "cell_type": "code",
      "metadata": {
        "id": "kmU3OQJY535k",
        "outputId": "6e64930f-dd51-4d7d-df3d-fd85c0d3f8cf",
        "colab": {
          "base_uri": "https://localhost:8080/",
          "height": 1000,
          "referenced_widgets": [
            "4caf27c5da2c40c28e8adc9afff4d30c"
          ]
        }
      },
      "source": [
        "model_cb.fit(x_train, y_train, cat_features= cat_features, plot=True, \n",
        "             eval_set=(x_test, y_test))"
      ],
      "execution_count": null,
      "outputs": [
        {
          "output_type": "display_data",
          "data": {
            "text/plain": [
              "MetricVisualizer(layout=Layout(align_self='stretch', height='500px'))"
            ],
            "application/vnd.jupyter.widget-view+json": {
              "version_major": 2,
              "version_minor": 0,
              "model_id": "4caf27c5da2c40c28e8adc9afff4d30c"
            }
          },
          "metadata": {}
        },
        {
          "output_type": "stream",
          "name": "stdout",
          "text": [
            "Learning rate set to 0.199227\n",
            "0:\tlearn: 0.8508475\ttest: 0.8653846\tbest: 0.8653846 (0)\ttotal: 6.68ms\tremaining: 661ms\n",
            "1:\tlearn: 0.8372881\ttest: 0.8608414\tbest: 0.8653846 (0)\ttotal: 11.3ms\tremaining: 553ms\n",
            "2:\tlearn: 0.8372881\ttest: 0.8571429\tbest: 0.8653846 (0)\ttotal: 16.6ms\tremaining: 536ms\n",
            "3:\tlearn: 0.8372881\ttest: 0.8571429\tbest: 0.8653846 (0)\ttotal: 21.8ms\tremaining: 522ms\n",
            "4:\tlearn: 0.8372881\ttest: 0.8571429\tbest: 0.8653846 (0)\ttotal: 27.1ms\tremaining: 514ms\n",
            "5:\tlearn: 0.8372881\ttest: 0.8571429\tbest: 0.8653846 (0)\ttotal: 30.8ms\tremaining: 483ms\n",
            "6:\tlearn: 0.8372881\ttest: 0.8571429\tbest: 0.8653846 (0)\ttotal: 36.1ms\tremaining: 479ms\n",
            "7:\tlearn: 0.8372881\ttest: 0.8571429\tbest: 0.8653846 (0)\ttotal: 40.1ms\tremaining: 462ms\n",
            "8:\tlearn: 0.8353141\ttest: 0.8571429\tbest: 0.8653846 (0)\ttotal: 45.4ms\tremaining: 459ms\n",
            "9:\tlearn: 0.8372881\ttest: 0.8571429\tbest: 0.8653846 (0)\ttotal: 50ms\tremaining: 450ms\n",
            "10:\tlearn: 0.8372881\ttest: 0.8571429\tbest: 0.8653846 (0)\ttotal: 55.2ms\tremaining: 447ms\n",
            "11:\tlearn: 0.8372881\ttest: 0.8571429\tbest: 0.8653846 (0)\ttotal: 60.3ms\tremaining: 443ms\n",
            "12:\tlearn: 0.8372881\ttest: 0.8571429\tbest: 0.8653846 (0)\ttotal: 65.4ms\tremaining: 438ms\n",
            "13:\tlearn: 0.8372881\ttest: 0.8571429\tbest: 0.8653846 (0)\ttotal: 75.6ms\tremaining: 464ms\n",
            "14:\tlearn: 0.8372881\ttest: 0.8571429\tbest: 0.8653846 (0)\ttotal: 82.8ms\tremaining: 469ms\n",
            "15:\tlearn: 0.8372881\ttest: 0.8571429\tbest: 0.8653846 (0)\ttotal: 90ms\tremaining: 473ms\n",
            "16:\tlearn: 0.8372881\ttest: 0.8571429\tbest: 0.8653846 (0)\ttotal: 98.1ms\tremaining: 479ms\n",
            "17:\tlearn: 0.8372881\ttest: 0.8571429\tbest: 0.8653846 (0)\ttotal: 103ms\tremaining: 467ms\n",
            "18:\tlearn: 0.8372881\ttest: 0.8571429\tbest: 0.8653846 (0)\ttotal: 113ms\tremaining: 484ms\n",
            "19:\tlearn: 0.8372881\ttest: 0.8571429\tbest: 0.8653846 (0)\ttotal: 119ms\tremaining: 474ms\n",
            "20:\tlearn: 0.8392555\ttest: 0.8571429\tbest: 0.8653846 (0)\ttotal: 124ms\tremaining: 465ms\n",
            "21:\tlearn: 0.8392555\ttest: 0.8571429\tbest: 0.8653846 (0)\ttotal: 129ms\tremaining: 457ms\n",
            "22:\tlearn: 0.8412162\ttest: 0.8571429\tbest: 0.8653846 (0)\ttotal: 134ms\tremaining: 448ms\n",
            "23:\tlearn: 0.8412162\ttest: 0.8571429\tbest: 0.8653846 (0)\ttotal: 139ms\tremaining: 440ms\n",
            "24:\tlearn: 0.8412162\ttest: 0.8571429\tbest: 0.8653846 (0)\ttotal: 145ms\tremaining: 434ms\n",
            "25:\tlearn: 0.8445946\ttest: 0.8571429\tbest: 0.8653846 (0)\ttotal: 150ms\tremaining: 426ms\n",
            "26:\tlearn: 0.8465430\ttest: 0.8571429\tbest: 0.8653846 (0)\ttotal: 155ms\tremaining: 419ms\n",
            "27:\tlearn: 0.8445946\ttest: 0.8571429\tbest: 0.8653846 (0)\ttotal: 159ms\tremaining: 409ms\n",
            "28:\tlearn: 0.8465430\ttest: 0.8571429\tbest: 0.8653846 (0)\ttotal: 164ms\tremaining: 402ms\n",
            "29:\tlearn: 0.8465430\ttest: 0.8571429\tbest: 0.8653846 (0)\ttotal: 169ms\tremaining: 395ms\n",
            "30:\tlearn: 0.8465430\ttest: 0.8571429\tbest: 0.8653846 (0)\ttotal: 175ms\tremaining: 389ms\n",
            "31:\tlearn: 0.8494078\ttest: 0.8571429\tbest: 0.8653846 (0)\ttotal: 180ms\tremaining: 383ms\n",
            "32:\tlearn: 0.8561760\ttest: 0.8571429\tbest: 0.8653846 (0)\ttotal: 190ms\tremaining: 386ms\n",
            "33:\tlearn: 0.8522920\ttest: 0.8571429\tbest: 0.8653846 (0)\ttotal: 196ms\tremaining: 380ms\n",
            "34:\tlearn: 0.8581081\ttest: 0.8645161\tbest: 0.8653846 (0)\ttotal: 201ms\tremaining: 373ms\n",
            "35:\tlearn: 0.8614865\ttest: 0.8543689\tbest: 0.8653846 (0)\ttotal: 206ms\tremaining: 366ms\n",
            "36:\tlearn: 0.8653199\ttest: 0.8543689\tbest: 0.8653846 (0)\ttotal: 212ms\tremaining: 360ms\n",
            "37:\tlearn: 0.8716216\ttest: 0.8478964\tbest: 0.8653846 (0)\ttotal: 217ms\tremaining: 354ms\n",
            "38:\tlearn: 0.8735245\ttest: 0.8393443\tbest: 0.8653846 (0)\ttotal: 222ms\tremaining: 347ms\n",
            "39:\tlearn: 0.8730964\ttest: 0.8506494\tbest: 0.8653846 (0)\ttotal: 228ms\tremaining: 341ms\n",
            "40:\tlearn: 0.8745763\ttest: 0.8469055\tbest: 0.8653846 (0)\ttotal: 233ms\tremaining: 335ms\n",
            "41:\tlearn: 0.8798646\ttest: 0.8431373\tbest: 0.8653846 (0)\ttotal: 238ms\tremaining: 329ms\n",
            "42:\tlearn: 0.8836425\ttest: 0.8403909\tbest: 0.8653846 (0)\ttotal: 244ms\tremaining: 323ms\n",
            "43:\tlearn: 0.8851351\ttest: 0.8431373\tbest: 0.8653846 (0)\ttotal: 249ms\tremaining: 317ms\n",
            "44:\tlearn: 0.8851351\ttest: 0.8469055\tbest: 0.8653846 (0)\ttotal: 254ms\tremaining: 311ms\n",
            "45:\tlearn: 0.8851351\ttest: 0.8431373\tbest: 0.8653846 (0)\ttotal: 260ms\tremaining: 305ms\n",
            "46:\tlearn: 0.8851351\ttest: 0.8469055\tbest: 0.8653846 (0)\ttotal: 265ms\tremaining: 299ms\n",
            "47:\tlearn: 0.8851351\ttest: 0.8516129\tbest: 0.8653846 (0)\ttotal: 270ms\tremaining: 293ms\n",
            "48:\tlearn: 0.8832487\ttest: 0.8543689\tbest: 0.8653846 (0)\ttotal: 276ms\tremaining: 287ms\n",
            "49:\tlearn: 0.8866328\ttest: 0.8478964\tbest: 0.8653846 (0)\ttotal: 281ms\tremaining: 281ms\n",
            "50:\tlearn: 0.8896435\ttest: 0.8516129\tbest: 0.8653846 (0)\ttotal: 286ms\tremaining: 275ms\n",
            "51:\tlearn: 0.8918919\ttest: 0.8478964\tbest: 0.8653846 (0)\ttotal: 292ms\tremaining: 269ms\n",
            "52:\tlearn: 0.8918919\ttest: 0.8441558\tbest: 0.8653846 (0)\ttotal: 297ms\tremaining: 263ms\n",
            "53:\tlearn: 0.8918919\ttest: 0.8441558\tbest: 0.8653846 (0)\ttotal: 302ms\tremaining: 257ms\n",
            "54:\tlearn: 0.8900169\ttest: 0.8441558\tbest: 0.8653846 (0)\ttotal: 307ms\tremaining: 251ms\n",
            "55:\tlearn: 0.8930390\ttest: 0.8469055\tbest: 0.8653846 (0)\ttotal: 312ms\tremaining: 245ms\n",
            "56:\tlearn: 0.8930390\ttest: 0.8469055\tbest: 0.8653846 (0)\ttotal: 318ms\tremaining: 240ms\n",
            "57:\tlearn: 0.8945578\ttest: 0.8469055\tbest: 0.8653846 (0)\ttotal: 323ms\tremaining: 234ms\n",
            "58:\tlearn: 0.8949153\ttest: 0.8431373\tbest: 0.8653846 (0)\ttotal: 328ms\tremaining: 228ms\n",
            "59:\tlearn: 0.8964346\ttest: 0.8459016\tbest: 0.8653846 (0)\ttotal: 333ms\tremaining: 222ms\n",
            "60:\tlearn: 0.8983051\ttest: 0.8431373\tbest: 0.8653846 (0)\ttotal: 338ms\tremaining: 216ms\n",
            "61:\tlearn: 0.8979592\ttest: 0.8459016\tbest: 0.8653846 (0)\ttotal: 344ms\tremaining: 211ms\n",
            "62:\tlearn: 0.9013605\ttest: 0.8459016\tbest: 0.8653846 (0)\ttotal: 349ms\tremaining: 205ms\n",
            "63:\tlearn: 0.9013605\ttest: 0.8459016\tbest: 0.8653846 (0)\ttotal: 354ms\tremaining: 199ms\n",
            "64:\tlearn: 0.9010239\ttest: 0.8459016\tbest: 0.8653846 (0)\ttotal: 359ms\tremaining: 193ms\n",
            "65:\tlearn: 0.9028961\ttest: 0.8496732\tbest: 0.8653846 (0)\ttotal: 365ms\tremaining: 188ms\n",
            "66:\tlearn: 0.9028961\ttest: 0.8496732\tbest: 0.8653846 (0)\ttotal: 371ms\tremaining: 183ms\n",
            "67:\tlearn: 0.9028961\ttest: 0.8496732\tbest: 0.8653846 (0)\ttotal: 381ms\tremaining: 179ms\n",
            "68:\tlearn: 0.9028961\ttest: 0.8496732\tbest: 0.8653846 (0)\ttotal: 387ms\tremaining: 174ms\n",
            "69:\tlearn: 0.9047619\ttest: 0.8534202\tbest: 0.8653846 (0)\ttotal: 392ms\tremaining: 168ms\n",
            "70:\tlearn: 0.9028961\ttest: 0.8571429\tbest: 0.8653846 (0)\ttotal: 397ms\tremaining: 162ms\n",
            "71:\tlearn: 0.9028961\ttest: 0.8562092\tbest: 0.8653846 (0)\ttotal: 402ms\tremaining: 157ms\n",
            "72:\tlearn: 0.9028961\ttest: 0.8599349\tbest: 0.8653846 (0)\ttotal: 408ms\tremaining: 151ms\n",
            "73:\tlearn: 0.9028961\ttest: 0.8562092\tbest: 0.8653846 (0)\ttotal: 413ms\tremaining: 145ms\n",
            "74:\tlearn: 0.9044369\ttest: 0.8562092\tbest: 0.8653846 (0)\ttotal: 419ms\tremaining: 140ms\n",
            "75:\tlearn: 0.9044369\ttest: 0.8486842\tbest: 0.8653846 (0)\ttotal: 424ms\tremaining: 134ms\n",
            "76:\tlearn: 0.9063032\ttest: 0.8486842\tbest: 0.8653846 (0)\ttotal: 429ms\tremaining: 128ms\n",
            "77:\tlearn: 0.9063032\ttest: 0.8486842\tbest: 0.8653846 (0)\ttotal: 434ms\tremaining: 123ms\n",
            "78:\tlearn: 0.9063032\ttest: 0.8562092\tbest: 0.8653846 (0)\ttotal: 440ms\tremaining: 117ms\n",
            "79:\tlearn: 0.9078498\ttest: 0.8562092\tbest: 0.8653846 (0)\ttotal: 445ms\tremaining: 111ms\n",
            "80:\tlearn: 0.9094017\ttest: 0.8562092\tbest: 0.8653846 (0)\ttotal: 451ms\tremaining: 106ms\n",
            "81:\tlearn: 0.9078498\ttest: 0.8534202\tbest: 0.8653846 (0)\ttotal: 456ms\tremaining: 100ms\n",
            "82:\tlearn: 0.9146758\ttest: 0.8506494\tbest: 0.8653846 (0)\ttotal: 461ms\tremaining: 94.5ms\n",
            "83:\tlearn: 0.9178082\ttest: 0.8496732\tbest: 0.8653846 (0)\ttotal: 467ms\tremaining: 88.9ms\n",
            "84:\tlearn: 0.9162393\ttest: 0.8496732\tbest: 0.8653846 (0)\ttotal: 472ms\tremaining: 83.3ms\n",
            "85:\tlearn: 0.9193825\ttest: 0.8469055\tbest: 0.8653846 (0)\ttotal: 477ms\tremaining: 77.7ms\n",
            "86:\tlearn: 0.9193825\ttest: 0.8534202\tbest: 0.8653846 (0)\ttotal: 482ms\tremaining: 72.1ms\n",
            "87:\tlearn: 0.9243986\ttest: 0.8534202\tbest: 0.8653846 (0)\ttotal: 488ms\tremaining: 66.5ms\n",
            "88:\tlearn: 0.9243986\ttest: 0.8534202\tbest: 0.8653846 (0)\ttotal: 493ms\tremaining: 60.9ms\n",
            "89:\tlearn: 0.9275862\ttest: 0.8599349\tbest: 0.8653846 (0)\ttotal: 498ms\tremaining: 55.3ms\n",
            "90:\tlearn: 0.9259897\ttest: 0.8599349\tbest: 0.8653846 (0)\ttotal: 503ms\tremaining: 49.8ms\n",
            "91:\tlearn: 0.9275862\ttest: 0.8534202\tbest: 0.8653846 (0)\ttotal: 515ms\tremaining: 44.7ms\n",
            "92:\tlearn: 0.9222798\ttest: 0.8534202\tbest: 0.8653846 (0)\ttotal: 520ms\tremaining: 39.1ms\n",
            "93:\tlearn: 0.9238754\ttest: 0.8534202\tbest: 0.8653846 (0)\ttotal: 525ms\tremaining: 33.5ms\n",
            "94:\tlearn: 0.9241379\ttest: 0.8496732\tbest: 0.8653846 (0)\ttotal: 530ms\tremaining: 27.9ms\n",
            "95:\tlearn: 0.9225473\ttest: 0.8486842\tbest: 0.8653846 (0)\ttotal: 536ms\tremaining: 22.3ms\n",
            "96:\tlearn: 0.9225473\ttest: 0.8486842\tbest: 0.8653846 (0)\ttotal: 541ms\tremaining: 16.7ms\n",
            "97:\tlearn: 0.9225473\ttest: 0.8524590\tbest: 0.8653846 (0)\ttotal: 546ms\tremaining: 11.1ms\n",
            "98:\tlearn: 0.9225473\ttest: 0.8496732\tbest: 0.8653846 (0)\ttotal: 551ms\tremaining: 5.57ms\n",
            "99:\tlearn: 0.9225473\ttest: 0.8459016\tbest: 0.8653846 (0)\ttotal: 556ms\tremaining: 0us\n",
            "bestTest = 0.8653846154\n",
            "bestIteration = 0\n",
            "Shrink model to first 1 iterations.\n"
          ]
        },
        {
          "output_type": "execute_result",
          "data": {
            "text/plain": [
              "<catboost.core.CatBoostClassifier at 0x7f5b074405d0>"
            ]
          },
          "metadata": {},
          "execution_count": 48
        }
      ]
    },
    {
      "cell_type": "code",
      "metadata": {
        "id": "X550kU8D558B"
      },
      "source": [
        "y_pred = model_cb.predict(x_test)"
      ],
      "execution_count": null,
      "outputs": []
    },
    {
      "cell_type": "code",
      "metadata": {
        "id": "pRPR6rsH__H_",
        "outputId": "99086ff6-efb3-4e49-a91a-68547f133ddc",
        "colab": {
          "base_uri": "https://localhost:8080/"
        }
      },
      "source": [
        "f1_score(y_test, y_pred)"
      ],
      "execution_count": null,
      "outputs": [
        {
          "output_type": "execute_result",
          "data": {
            "text/plain": [
              "0.8653846153846153"
            ]
          },
          "metadata": {},
          "execution_count": 50
        }
      ]
    },
    {
      "cell_type": "code",
      "metadata": {
        "id": "Cro3MSvZADJ2",
        "outputId": "c6d6dc6e-98bc-486e-a2fe-5e4d025a8157",
        "colab": {
          "base_uri": "https://localhost:8080/"
        }
      },
      "source": [
        "accuracy_score(y_test, y_pred)"
      ],
      "execution_count": null,
      "outputs": [
        {
          "output_type": "execute_result",
          "data": {
            "text/plain": [
              "0.7931034482758621"
            ]
          },
          "metadata": {},
          "execution_count": 51
        }
      ]
    },
    {
      "cell_type": "code",
      "metadata": {
        "id": "_U8xbzfDAvc1"
      },
      "source": [],
      "execution_count": null,
      "outputs": []
    }
  ]
}